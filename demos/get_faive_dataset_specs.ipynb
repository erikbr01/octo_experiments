{
 "cells": [
  {
   "cell_type": "code",
   "execution_count": 1,
   "metadata": {},
   "outputs": [],
   "source": [
    "import h5py\n",
    "import numpy as np\n",
    "import dexformer\n",
    "from dexformer.dataset import h5_tools\n",
    "import os"
   ]
  },
  {
   "cell_type": "code",
   "execution_count": 2,
   "metadata": {},
   "outputs": [],
   "source": [
    "example_dir = '/home/erbauer/srl-nas-faive/Datasets/Dexformer/datasets/bottle_pick_v1/episode_0_success.h5'"
   ]
  },
  {
   "cell_type": "code",
   "execution_count": 3,
   "metadata": {},
   "outputs": [
    {
     "name": "stdout",
     "output_type": "stream",
     "text": [
      "Loading topic arrays from /home/erbauer/srl-nas-faive/Datasets/Dexformer/datasets/bottle_pick_v1/episode_0_success.h5\n",
      "Loaded topics are: ['/franka_pose', '/franka_twist', '/ingress/mano', '/oakd_top_view/depth', '/oakd_top_view/color', '/oakd_wrist_view/color', '/oakd_wrist_view/depth', '/faive/policy_output', '/zed/zed_node/rgb/image_rect_color', '/zed/zed_node/depth/depth_registered']\n",
      "Successfully loaded /home/erbauer/srl-nas-faive/Datasets/Dexformer/datasets/bottle_pick_v1/episode_0_success.h5\n",
      "Loaded topics are: dict_keys(['/franka_pose', '/franka_twist', '/ingress/mano', '/oakd_top_view/depth', '/oakd_top_view/color', '/oakd_wrist_view/color', '/oakd_wrist_view/depth', '/faive/policy_output', '/zed/zed_node/rgb/image_rect_color', '/zed/zed_node/depth/depth_registered'])\n",
      "Loaded topic: /franka_pose with shape: (2414, 4, 4)\n",
      "Loaded topic: /franka_twist with shape: (4827, 6)\n",
      "Loaded topic: /ingress/mano with shape: (1207, 21, 3)\n",
      "Loaded topic: /oakd_top_view/depth with shape: (725, 360, 640)\n",
      "Loaded topic: /oakd_top_view/color with shape: (725, 360, 640, 3)\n",
      "Loaded topic: /oakd_wrist_view/color with shape: (724, 360, 640, 3)\n",
      "Loaded topic: /oakd_wrist_view/depth with shape: (724, 360, 640)\n",
      "Loaded topic: /faive/policy_output with shape: (548, 11, 1)\n",
      "Loaded topic: /zed/zed_node/rgb/image_rect_color with shape: (695, 540, 960, 3)\n",
      "Loaded topic: /zed/zed_node/depth/depth_registered with shape: (695, 540, 960)\n"
     ]
    }
   ],
   "source": [
    "topic_arrays = h5_tools.load_topic_arrays_h5(example_dir)\n"
   ]
  },
  {
   "cell_type": "code",
   "execution_count": 4,
   "metadata": {},
   "outputs": [
    {
     "name": "stdout",
     "output_type": "stream",
     "text": [
      "Selecting topic /franka_pose as anchor topic with frequency 100.00024282591083 Hz, downsampling to 10 Hz\n",
      "Downsampled from 2414 to 242 messages on topic /franka_pose\n",
      "selected messages shape: (242, 4, 4)\n"
     ]
    },
    {
     "data": {
      "text/html": [
       "<div>\n",
       "<style scoped>\n",
       "    .dataframe tbody tr th:only-of-type {\n",
       "        vertical-align: middle;\n",
       "    }\n",
       "\n",
       "    .dataframe tbody tr th {\n",
       "        vertical-align: top;\n",
       "    }\n",
       "\n",
       "    .dataframe thead th {\n",
       "        text-align: right;\n",
       "    }\n",
       "</style>\n",
       "<table border=\"1\" class=\"dataframe\">\n",
       "  <thead>\n",
       "    <tr style=\"text-align: right;\">\n",
       "      <th></th>\n",
       "      <th>/franka_pose</th>\n",
       "      <th>/franka_twist</th>\n",
       "      <th>/ingress/mano</th>\n",
       "      <th>/oakd_top_view/depth</th>\n",
       "      <th>/oakd_top_view/color</th>\n",
       "      <th>/oakd_wrist_view/color</th>\n",
       "      <th>/oakd_wrist_view/depth</th>\n",
       "      <th>/faive/policy_output</th>\n",
       "      <th>/zed/zed_node/rgb/image_rect_color</th>\n",
       "      <th>/zed/zed_node/depth/depth_registered</th>\n",
       "    </tr>\n",
       "  </thead>\n",
       "  <tbody>\n",
       "    <tr>\n",
       "      <th>0</th>\n",
       "      <td>[[0.9980012497295341, -0.05581850639588487, -0...</td>\n",
       "      <td>[0.0, 0.0, 0.0, -0.0, 0.0, -0.0]</td>\n",
       "      <td>[[0.0, 0.0, 0.0], [-0.025234642, 0.021905823, ...</td>\n",
       "      <td>[[2150, 2150, 2150, 2112, 2112, 2112, 2112, 21...</td>\n",
       "      <td>[[[98, 141, 188], [98, 141, 188], [94, 137, 18...</td>\n",
       "      <td>[[[9, 11, 18], [8, 10, 16], [7, 12, 16], [6, 1...</td>\n",
       "      <td>[[0, 0, 0, 0, 0, 0, 0, 0, 0, 0, 0, 0, 0, 0, 0,...</td>\n",
       "      <td>[[60.544773], [-8.634338], [0.0], [1.3513663],...</td>\n",
       "      <td>[[[155, 157, 159], [161, 163, 164], [167, 170,...</td>\n",
       "      <td>[[nan, nan, nan, nan, nan, nan, nan, nan, nan,...</td>\n",
       "    </tr>\n",
       "    <tr>\n",
       "      <th>1</th>\n",
       "      <td>[[0.9980028183721287, -0.05580118740486249, -0...</td>\n",
       "      <td>[0.0, 0.0, 0.0, -0.0, 0.0, -0.0]</td>\n",
       "      <td>[[0.0, 0.0, 0.0], [-0.025234567, 0.0219058, -0...</td>\n",
       "      <td>[[2150, 2150, 2150, 2150, 2150, 2150, 2150, 21...</td>\n",
       "      <td>[[[99, 141, 191], [98, 140, 190], [93, 135, 18...</td>\n",
       "      <td>[[[4, 10, 14], [6, 11, 15], [6, 11, 15], [4, 1...</td>\n",
       "      <td>[[0, 0, 0, 0, 0, 0, 0, 0, 0, 0, 0, 0, 0, 0, 0,...</td>\n",
       "      <td>[[60.59407], [-8.6417885], [0.0], [1.651188], ...</td>\n",
       "      <td>[[[157, 160, 163], [166, 166, 172], [166, 168,...</td>\n",
       "      <td>[[nan, nan, nan, nan, nan, nan, nan, nan, nan,...</td>\n",
       "    </tr>\n",
       "    <tr>\n",
       "      <th>2</th>\n",
       "      <td>[[0.9980037443362813, -0.0557955814385308, -0....</td>\n",
       "      <td>[0.0, 0.0, 0.0, -0.0, 0.0, -0.0]</td>\n",
       "      <td>[[0.0, 0.0, 0.0], [-0.025234625, 0.021905795, ...</td>\n",
       "      <td>[[2150, 2150, 2150, 2150, 2150, 2150, 2150, 21...</td>\n",
       "      <td>[[[99, 138, 189], [99, 138, 189], [97, 137, 18...</td>\n",
       "      <td>[[[6, 10, 14], [8, 11, 15], [6, 11, 15], [4, 1...</td>\n",
       "      <td>[[0, 0, 0, 0, 8920, 8920, 0, 0, 0, 0, 9634, 96...</td>\n",
       "      <td>[[60.705246], [-8.588411], [0.0], [1.8380386],...</td>\n",
       "      <td>[[[156, 164, 163], [157, 164, 163], [164, 167,...</td>\n",
       "      <td>[[nan, nan, nan, nan, nan, nan, nan, nan, nan,...</td>\n",
       "    </tr>\n",
       "    <tr>\n",
       "      <th>3</th>\n",
       "      <td>[[0.998004209085674, -0.05579187796883836, -0....</td>\n",
       "      <td>[0.0, 0.0, 0.0, -0.0, 0.0, -0.0]</td>\n",
       "      <td>[[0.0, 0.0, 0.0], [-0.025234632, 0.021905826, ...</td>\n",
       "      <td>[[2150, 2150, 2150, 2150, 2150, 2150, 2150, 21...</td>\n",
       "      <td>[[[101, 143, 194], [98, 140, 190], [95, 138, 1...</td>\n",
       "      <td>[[[6, 10, 16], [8, 13, 19], [4, 9, 15], [6, 10...</td>\n",
       "      <td>[[0, 0, 0, 0, 0, 0, 0, 0, 0, 0, 0, 0, 0, 0, 0,...</td>\n",
       "      <td>[[61.049576], [-8.427935], [0.0], [2.125799], ...</td>\n",
       "      <td>[[[156, 158, 161], [163, 167, 165], [164, 168,...</td>\n",
       "      <td>[[nan, nan, nan, nan, nan, nan, nan, nan, nan,...</td>\n",
       "    </tr>\n",
       "    <tr>\n",
       "      <th>4</th>\n",
       "      <td>[[0.9980063277493599, -0.05576588060113379, -0...</td>\n",
       "      <td>[0.0, 0.0, 0.0, -0.0, 0.0, -0.0]</td>\n",
       "      <td>[[0.0, 0.0, 0.0], [-0.025234606, 0.021905812, ...</td>\n",
       "      <td>[[2150, 2150, 2150, 2150, 2150, 2150, 2150, 21...</td>\n",
       "      <td>[[[98, 140, 190], [97, 139, 189], [95, 138, 18...</td>\n",
       "      <td>[[[8, 10, 16], [8, 10, 16], [6, 10, 16], [4, 9...</td>\n",
       "      <td>[[0, 0, 0, 0, 0, 0, 0, 0, 0, 0, 0, 0, 0, 0, 0,...</td>\n",
       "      <td>[[61.267776], [-8.345314], [0.0], [2.246651], ...</td>\n",
       "      <td>[[[158, 162, 160], [164, 165, 164], [165, 169,...</td>\n",
       "      <td>[[nan, nan, nan, nan, nan, nan, nan, nan, nan,...</td>\n",
       "    </tr>\n",
       "  </tbody>\n",
       "</table>\n",
       "</div>"
      ],
      "text/plain": [
       "                                        /franka_pose  \\\n",
       "0  [[0.9980012497295341, -0.05581850639588487, -0...   \n",
       "1  [[0.9980028183721287, -0.05580118740486249, -0...   \n",
       "2  [[0.9980037443362813, -0.0557955814385308, -0....   \n",
       "3  [[0.998004209085674, -0.05579187796883836, -0....   \n",
       "4  [[0.9980063277493599, -0.05576588060113379, -0...   \n",
       "\n",
       "                      /franka_twist  \\\n",
       "0  [0.0, 0.0, 0.0, -0.0, 0.0, -0.0]   \n",
       "1  [0.0, 0.0, 0.0, -0.0, 0.0, -0.0]   \n",
       "2  [0.0, 0.0, 0.0, -0.0, 0.0, -0.0]   \n",
       "3  [0.0, 0.0, 0.0, -0.0, 0.0, -0.0]   \n",
       "4  [0.0, 0.0, 0.0, -0.0, 0.0, -0.0]   \n",
       "\n",
       "                                       /ingress/mano  \\\n",
       "0  [[0.0, 0.0, 0.0], [-0.025234642, 0.021905823, ...   \n",
       "1  [[0.0, 0.0, 0.0], [-0.025234567, 0.0219058, -0...   \n",
       "2  [[0.0, 0.0, 0.0], [-0.025234625, 0.021905795, ...   \n",
       "3  [[0.0, 0.0, 0.0], [-0.025234632, 0.021905826, ...   \n",
       "4  [[0.0, 0.0, 0.0], [-0.025234606, 0.021905812, ...   \n",
       "\n",
       "                                /oakd_top_view/depth  \\\n",
       "0  [[2150, 2150, 2150, 2112, 2112, 2112, 2112, 21...   \n",
       "1  [[2150, 2150, 2150, 2150, 2150, 2150, 2150, 21...   \n",
       "2  [[2150, 2150, 2150, 2150, 2150, 2150, 2150, 21...   \n",
       "3  [[2150, 2150, 2150, 2150, 2150, 2150, 2150, 21...   \n",
       "4  [[2150, 2150, 2150, 2150, 2150, 2150, 2150, 21...   \n",
       "\n",
       "                                /oakd_top_view/color  \\\n",
       "0  [[[98, 141, 188], [98, 141, 188], [94, 137, 18...   \n",
       "1  [[[99, 141, 191], [98, 140, 190], [93, 135, 18...   \n",
       "2  [[[99, 138, 189], [99, 138, 189], [97, 137, 18...   \n",
       "3  [[[101, 143, 194], [98, 140, 190], [95, 138, 1...   \n",
       "4  [[[98, 140, 190], [97, 139, 189], [95, 138, 18...   \n",
       "\n",
       "                              /oakd_wrist_view/color  \\\n",
       "0  [[[9, 11, 18], [8, 10, 16], [7, 12, 16], [6, 1...   \n",
       "1  [[[4, 10, 14], [6, 11, 15], [6, 11, 15], [4, 1...   \n",
       "2  [[[6, 10, 14], [8, 11, 15], [6, 11, 15], [4, 1...   \n",
       "3  [[[6, 10, 16], [8, 13, 19], [4, 9, 15], [6, 10...   \n",
       "4  [[[8, 10, 16], [8, 10, 16], [6, 10, 16], [4, 9...   \n",
       "\n",
       "                              /oakd_wrist_view/depth  \\\n",
       "0  [[0, 0, 0, 0, 0, 0, 0, 0, 0, 0, 0, 0, 0, 0, 0,...   \n",
       "1  [[0, 0, 0, 0, 0, 0, 0, 0, 0, 0, 0, 0, 0, 0, 0,...   \n",
       "2  [[0, 0, 0, 0, 8920, 8920, 0, 0, 0, 0, 9634, 96...   \n",
       "3  [[0, 0, 0, 0, 0, 0, 0, 0, 0, 0, 0, 0, 0, 0, 0,...   \n",
       "4  [[0, 0, 0, 0, 0, 0, 0, 0, 0, 0, 0, 0, 0, 0, 0,...   \n",
       "\n",
       "                                /faive/policy_output  \\\n",
       "0  [[60.544773], [-8.634338], [0.0], [1.3513663],...   \n",
       "1  [[60.59407], [-8.6417885], [0.0], [1.651188], ...   \n",
       "2  [[60.705246], [-8.588411], [0.0], [1.8380386],...   \n",
       "3  [[61.049576], [-8.427935], [0.0], [2.125799], ...   \n",
       "4  [[61.267776], [-8.345314], [0.0], [2.246651], ...   \n",
       "\n",
       "                  /zed/zed_node/rgb/image_rect_color  \\\n",
       "0  [[[155, 157, 159], [161, 163, 164], [167, 170,...   \n",
       "1  [[[157, 160, 163], [166, 166, 172], [166, 168,...   \n",
       "2  [[[156, 164, 163], [157, 164, 163], [164, 167,...   \n",
       "3  [[[156, 158, 161], [163, 167, 165], [164, 168,...   \n",
       "4  [[[158, 162, 160], [164, 165, 164], [165, 169,...   \n",
       "\n",
       "                /zed/zed_node/depth/depth_registered  \n",
       "0  [[nan, nan, nan, nan, nan, nan, nan, nan, nan,...  \n",
       "1  [[nan, nan, nan, nan, nan, nan, nan, nan, nan,...  \n",
       "2  [[nan, nan, nan, nan, nan, nan, nan, nan, nan,...  \n",
       "3  [[nan, nan, nan, nan, nan, nan, nan, nan, nan,...  \n",
       "4  [[nan, nan, nan, nan, nan, nan, nan, nan, nan,...  "
      ]
     },
     "execution_count": 4,
     "metadata": {},
     "output_type": "execute_result"
    }
   ],
   "source": [
    "sync_dataframe = h5_tools.build_synchronized_dataframe('/franka_pose', topic_arrays, 10)\n",
    "sync_dataframe.head()"
   ]
  },
  {
   "cell_type": "code",
   "execution_count": 5,
   "metadata": {},
   "outputs": [
    {
     "data": {
      "text/plain": [
       "(242, 17)"
      ]
     },
     "execution_count": 5,
     "metadata": {},
     "output_type": "execute_result"
    }
   ],
   "source": [
    "from dexformer.utils.dataset_utils import parse_state_from_sync_df\n",
    "state = parse_state_from_sync_df(sync_dataframe)\n",
    "state.shape"
   ]
  },
  {
   "cell_type": "code",
   "execution_count": 6,
   "metadata": {},
   "outputs": [
    {
     "data": {
      "text/plain": [
       "'bottle pick v1'"
      ]
     },
     "execution_count": 6,
     "metadata": {},
     "output_type": "execute_result"
    }
   ],
   "source": [
    "task_name = os.path.dirname(example_dir).split('/')[-1].replace('_', ' ')\n",
    "task_name"
   ]
  },
  {
   "cell_type": "code",
   "execution_count": 9,
   "metadata": {},
   "outputs": [
    {
     "data": {
      "text/plain": [
       "(242, 6)"
      ]
     },
     "execution_count": 9,
     "metadata": {},
     "output_type": "execute_result"
    }
   ],
   "source": [
    "twists = sync_dataframe['/franka_twist'].to_numpy()\n",
    "unwrapped_twists = np.stack(twists)\n",
    "unwrapped_twists.shape"
   ]
  }
 ],
 "metadata": {
  "kernelspec": {
   "display_name": "octo",
   "language": "python",
   "name": "python3"
  },
  "language_info": {
   "codemirror_mode": {
    "name": "ipython",
    "version": 3
   },
   "file_extension": ".py",
   "mimetype": "text/x-python",
   "name": "python",
   "nbconvert_exporter": "python",
   "pygments_lexer": "ipython3",
   "version": "3.10.14"
  }
 },
 "nbformat": 4,
 "nbformat_minor": 2
}
